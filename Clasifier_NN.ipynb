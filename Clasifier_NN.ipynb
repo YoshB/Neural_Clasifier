{
  "nbformat": 4,
  "nbformat_minor": 0,
  "metadata": {
    "colab": {
      "name": "Clasifier NN.ipynb",
      "provenance": [],
      "collapsed_sections": [],
      "include_colab_link": true
    },
    "kernelspec": {
      "name": "python3",
      "display_name": "Python 3"
    },
    "language_info": {
      "name": "python"
    },
    "accelerator": "GPU"
  },
  "cells": [
    {
      "cell_type": "markdown",
      "metadata": {
        "id": "view-in-github",
        "colab_type": "text"
      },
      "source": [
        "<a href=\"https://colab.research.google.com/github/YoshB/Neural_Clasifier/blob/main/Clasifier_NN.ipynb\" target=\"_parent\"><img src=\"https://colab.research.google.com/assets/colab-badge.svg\" alt=\"Open In Colab\"/></a>"
      ]
    },
    {
      "cell_type": "code",
      "metadata": {
        "id": "CgNmy4EVe7SV"
      },
      "source": [
        "import numpy as np\n",
        "import matplotlib.pyplot as plt\n",
        "import matplotlib.image as mtpimage\n",
        "\n",
        "from tensorflow import keras\n",
        "from keras.datasets import cifar10\n",
        "from keras.models import Sequential\n",
        "from keras.layers import Dense, Dropout, Flatten\n",
        "from keras.layers import Conv2D, MaxPooling2D\n",
        "\n",
        "from sklearn import metrics \n"
      ],
      "execution_count": 1,
      "outputs": []
    },
    {
      "cell_type": "code",
      "metadata": {
        "id": "8VCa8wLeiNGy",
        "colab": {
          "base_uri": "https://localhost:8080/"
        },
        "outputId": "dcfac704-700b-4db2-fc97-4b348faca13d"
      },
      "source": [
        "#The cifar10 library give us a dataset of images in 10 different categories as airplane, ship, and others.\n",
        "(x_train, y_train), (x_test, y_test) = cifar10.load_data()\n",
        "#print(x_train.shape)"
      ],
      "execution_count": 2,
      "outputs": [
        {
          "output_type": "stream",
          "name": "stdout",
          "text": [
            "Downloading data from https://www.cs.toronto.edu/~kriz/cifar-10-python.tar.gz\n",
            "170500096/170498071 [==============================] - 3s 0us/step\n",
            "170508288/170498071 [==============================] - 3s 0us/step\n"
          ]
        }
      ]
    },
    {
      "cell_type": "code",
      "metadata": {
        "id": "kVNEOheRkbjS"
      },
      "source": [
        "# We are going to make a network that can identify a ship and an airplane\n",
        "airplane = (y_train == 0).ravel()\n",
        "ship = (y_train == 8).ravel()\n",
        "\n",
        "x_train = np.concatenate((x_train[airplane,:,:,:], x_train[ship,:,:,:]))\n",
        "\n",
        "airplane = (y_test == 0).ravel()\n",
        "ship = (y_test == 8).ravel()\n",
        "\n",
        "x_test = np.concatenate((x_test[airplane,:,:,:], x_test[ship,:,:,:]))\n",
        "\n",
        "y_train = np.ones(10000)\n",
        "y_train[0:5000] = np.zeros(5000)\n",
        "I = np.random.permutation(10000)\n",
        "\n",
        "\n",
        "# print(np.shape(x_train))\n",
        "\n",
        "x_train = x_train[I,:,:,:]\n",
        "y_train = y_train[I]\n",
        "\n",
        "\n",
        "y_test = np.ones(2000)\n",
        "y_test[0:1000] = np.zeros(1000)\n",
        "I = np.random.permutation(2000)\n",
        "\n",
        "\n",
        "x_test = x_test[I,:,:,:]\n",
        "y_test = y_test[I]\n",
        "\n"
      ],
      "execution_count": 3,
      "outputs": []
    },
    {
      "cell_type": "markdown",
      "metadata": {
        "id": "riz66bCIohzw"
      },
      "source": [
        "Visualize the images"
      ]
    },
    {
      "cell_type": "code",
      "metadata": {
        "colab": {
          "base_uri": "https://localhost:8080/",
          "height": 281
        },
        "id": "lbHMdbZvonic",
        "outputId": "dde9ea56-69ad-44ad-a7df-eed009249a16"
      },
      "source": [
        "num = np.random.randint(0,10000)\n",
        "plt.imshow(x_train[num])\n",
        "plt.title(\"Number: \" + str(y_train[num]))\n",
        "plt.show()\n",
        "\n",
        "# 0 --> Avion\n",
        "# 1 --> Barco\n",
        "\n",
        "x_train = x_train.astype('float32')/255\n",
        "x_test = x_test.astype('float32')/255\n",
        "\n",
        "x_train = x_train.reshape(x_train.shape[0], 32, 32,3)\n",
        "x_test = x_test.reshape(x_test.shape[0], 32, 32,3)\n"
      ],
      "execution_count": 4,
      "outputs": [
        {
          "output_type": "display_data",
          "data": {
            "image/png": "[encoded data removed]",
            "text/plain": [
              "<Figure size 432x288 with 1 Axes>"
            ]
          },
          "metadata": {
            "needs_background": "light"
          }
        }
      ]
    },
    {
      "cell_type": "markdown",
      "metadata": {
        "id": "IBo-AHLieX1a"
      },
      "source": [
        "Creat the model"
      ]
    },
    {
      "cell_type": "code",
      "metadata": {
        "id": "f7Sm-nv4eXKg"
      },
      "source": [
        "model = Sequential()\n",
        "\n",
        "# Input layer\n",
        "model.add(Conv2D(128, kernel_size=(3,3), padding='same', activation= 'LeakyReLU', input_shape=(32,32,3)))\n",
        "model.add(MaxPooling2D(pool_size=(2,2)))\n",
        "# 25% of the neuron in this layer will be turn off randomly to strengthen the network\n",
        "# this help us to deal with the overfitting\n",
        "model.add(Dropout(0.25)) \n",
        "\n",
        "#Segund layer\n",
        "model.add(Conv2D(64, kernel_size=(3,3), padding='same', activation='LeakyReLU'))\n",
        "model.add(MaxPooling2D(pool_size=(2,2)))\n",
        "model.add(Dropout(0.25))\n",
        "\n",
        "# third\n",
        "model.add(Conv2D(32, kernel_size=(3,3),padding='same', activation='LeakyReLU'))\n",
        "model.add(MaxPooling2D(pool_size=(2,2)))\n",
        "model.add(Dropout(0.25))\n",
        "\n",
        "# fourth and last convolution layer\n",
        "model.add(Conv2D(16, kernel_size=(3,3),padding='same', activation='LeakyReLU'))\n",
        "model.add(MaxPooling2D(pool_size=(2,2)))\n",
        "model.add(Dropout(0.25))\n",
        "\n",
        "#We create a dense model from here\n",
        "model.add(Flatten())\n",
        "\n",
        "model.add(Dense(30, activation='relu'))\n",
        "model.add(Dropout(0.15))\n",
        "model.add(Dense(15, activation='relu'))\n",
        "model.add(Dropout(0.15))\n",
        "model.add(Dense(1,activation='sigmoid'))\n",
        "\n",
        "#Set the algorithm to train our net (Adam, in this case)\n",
        "model.compile(loss='binary_crossentropy', optimizer='adam', metrics=['accuracy'])\n"
      ],
      "execution_count": 5,
      "outputs": []
    },
    {
      "cell_type": "code",
      "metadata": {
        "colab": {
          "base_uri": "https://localhost:8080/"
        },
        "id": "Hicv6RPvjak9",
        "outputId": "efcc37aa-2ddf-4253-84ca-5b919de74e0c"
      },
      "source": [
        "print(y_train.shape)"
      ],
      "execution_count": 6,
      "outputs": [
        {
          "output_type": "stream",
          "name": "stdout",
          "text": [
            "(10000,)\n"
          ]
        }
      ]
    },
    {
      "cell_type": "markdown",
      "metadata": {
        "id": "YIX0px-9gXJX"
      },
      "source": [
        "# Training"
      ]
    },
    {
      "cell_type": "code",
      "metadata": {
        "id": "TAOryDlpgWog",
        "colab": {
          "base_uri": "https://localhost:8080/"
        },
        "outputId": "29ef7832-f9d2-4677-c6e5-c38d603b8943"
      },
      "source": [
        "batch = 250 # Batch size\n",
        "print(batch)\n",
        "e = 50 # Epochs\n",
        "hist = model.fit(x_train,y_train, batch_size= batch, epochs = e, verbose=1, validation_data=(x_test, y_test))\n",
        "\n",
        "#We can detect if our model is over fitting if the val_accuracy is less than the accuracy "
      ],
      "execution_count": 7,
      "outputs": [
        {
          "output_type": "stream",
          "name": "stdout",
          "text": [
            "250\n",
            "Epoch 1/50\n",
            "40/40 [==============================] - 16s 60ms/step - loss: 0.6852 - accuracy: 0.5453 - val_loss: 0.6313 - val_accuracy: 0.6635\n",
            "Epoch 2/50\n",
            "40/40 [==============================] - 2s 53ms/step - loss: 0.6268 - accuracy: 0.6629 - val_loss: 0.5645 - val_accuracy: 0.7190\n",
            "Epoch 3/50\n",
            "40/40 [==============================] - 2s 52ms/step - loss: 0.5757 - accuracy: 0.7104 - val_loss: 0.5240 - val_accuracy: 0.7535\n",
            "Epoch 4/50\n",
            "40/40 [==============================] - 2s 52ms/step - loss: 0.5300 - accuracy: 0.7451 - val_loss: 0.4748 - val_accuracy: 0.7790\n",
            "Epoch 5/50\n",
            "40/40 [==============================] - 2s 53ms/step - loss: 0.4800 - accuracy: 0.7784 - val_loss: 0.4155 - val_accuracy: 0.8175\n",
            "Epoch 6/50\n",
            "40/40 [==============================] - 2s 53ms/step - loss: 0.4376 - accuracy: 0.8028 - val_loss: 0.3713 - val_accuracy: 0.8355\n",
            "Epoch 7/50\n",
            "40/40 [==============================] - 2s 55ms/step - loss: 0.3990 - accuracy: 0.8286 - val_loss: 0.3345 - val_accuracy: 0.8600\n",
            "Epoch 8/50\n",
            "40/40 [==============================] - 2s 54ms/step - loss: 0.3749 - accuracy: 0.8391 - val_loss: 0.3081 - val_accuracy: 0.8720\n",
            "Epoch 9/50\n",
            "40/40 [==============================] - 2s 53ms/step - loss: 0.3498 - accuracy: 0.8536 - val_loss: 0.2848 - val_accuracy: 0.8820\n",
            "Epoch 10/50\n",
            "40/40 [==============================] - 2s 53ms/step - loss: 0.3270 - accuracy: 0.8645 - val_loss: 0.2605 - val_accuracy: 0.8965\n",
            "Epoch 11/50\n",
            "40/40 [==============================] - 2s 54ms/step - loss: 0.2983 - accuracy: 0.8790 - val_loss: 0.2725 - val_accuracy: 0.8915\n",
            "Epoch 12/50\n",
            "40/40 [==============================] - 2s 54ms/step - loss: 0.2943 - accuracy: 0.8831 - val_loss: 0.2624 - val_accuracy: 0.8900\n",
            "Epoch 13/50\n",
            "40/40 [==============================] - 2s 55ms/step - loss: 0.2806 - accuracy: 0.8902 - val_loss: 0.2279 - val_accuracy: 0.9130\n",
            "Epoch 14/50\n",
            "40/40 [==============================] - 2s 57ms/step - loss: 0.2655 - accuracy: 0.8965 - val_loss: 0.2238 - val_accuracy: 0.9150\n",
            "Epoch 15/50\n",
            "40/40 [==============================] - 2s 54ms/step - loss: 0.2531 - accuracy: 0.9017 - val_loss: 0.2120 - val_accuracy: 0.9225\n",
            "Epoch 16/50\n",
            "40/40 [==============================] - 2s 54ms/step - loss: 0.2463 - accuracy: 0.9027 - val_loss: 0.2279 - val_accuracy: 0.9075\n",
            "Epoch 17/50\n",
            "40/40 [==============================] - 2s 54ms/step - loss: 0.2397 - accuracy: 0.9058 - val_loss: 0.2185 - val_accuracy: 0.9150\n",
            "Epoch 18/50\n",
            "40/40 [==============================] - 2s 54ms/step - loss: 0.2454 - accuracy: 0.9043 - val_loss: 0.2157 - val_accuracy: 0.9145\n",
            "Epoch 19/50\n",
            "40/40 [==============================] - 2s 52ms/step - loss: 0.2350 - accuracy: 0.9092 - val_loss: 0.2182 - val_accuracy: 0.9165\n",
            "Epoch 20/50\n",
            "40/40 [==============================] - 2s 53ms/step - loss: 0.2262 - accuracy: 0.9100 - val_loss: 0.2017 - val_accuracy: 0.9260\n",
            "Epoch 21/50\n",
            "40/40 [==============================] - 2s 55ms/step - loss: 0.2177 - accuracy: 0.9143 - val_loss: 0.2129 - val_accuracy: 0.9210\n",
            "Epoch 22/50\n",
            "40/40 [==============================] - 2s 54ms/step - loss: 0.2085 - accuracy: 0.9178 - val_loss: 0.2102 - val_accuracy: 0.9215\n",
            "Epoch 23/50\n",
            "40/40 [==============================] - 2s 53ms/step - loss: 0.2148 - accuracy: 0.9159 - val_loss: 0.2027 - val_accuracy: 0.9225\n",
            "Epoch 24/50\n",
            "40/40 [==============================] - 2s 54ms/step - loss: 0.2027 - accuracy: 0.9170 - val_loss: 0.1862 - val_accuracy: 0.9330\n",
            "Epoch 25/50\n",
            "40/40 [==============================] - 2s 53ms/step - loss: 0.1993 - accuracy: 0.9214 - val_loss: 0.1957 - val_accuracy: 0.9330\n",
            "Epoch 26/50\n",
            "40/40 [==============================] - 2s 55ms/step - loss: 0.1968 - accuracy: 0.9245 - val_loss: 0.2064 - val_accuracy: 0.9250\n",
            "Epoch 27/50\n",
            "40/40 [==============================] - 2s 54ms/step - loss: 0.1870 - accuracy: 0.9282 - val_loss: 0.2122 - val_accuracy: 0.9255\n",
            "Epoch 28/50\n",
            "40/40 [==============================] - 2s 53ms/step - loss: 0.1970 - accuracy: 0.9215 - val_loss: 0.1875 - val_accuracy: 0.9315\n",
            "Epoch 29/50\n",
            "40/40 [==============================] - 2s 53ms/step - loss: 0.1818 - accuracy: 0.9273 - val_loss: 0.1909 - val_accuracy: 0.9340\n",
            "Epoch 30/50\n",
            "40/40 [==============================] - 2s 54ms/step - loss: 0.1761 - accuracy: 0.9344 - val_loss: 0.2062 - val_accuracy: 0.9260\n",
            "Epoch 31/50\n",
            "40/40 [==============================] - 2s 52ms/step - loss: 0.1720 - accuracy: 0.9339 - val_loss: 0.1888 - val_accuracy: 0.9330\n",
            "Epoch 32/50\n",
            "40/40 [==============================] - 2s 54ms/step - loss: 0.1775 - accuracy: 0.9297 - val_loss: 0.1833 - val_accuracy: 0.9335\n",
            "Epoch 33/50\n",
            "40/40 [==============================] - 2s 53ms/step - loss: 0.1648 - accuracy: 0.9380 - val_loss: 0.1865 - val_accuracy: 0.9340\n",
            "Epoch 34/50\n",
            "40/40 [==============================] - 2s 54ms/step - loss: 0.1620 - accuracy: 0.9388 - val_loss: 0.1825 - val_accuracy: 0.9350\n",
            "Epoch 35/50\n",
            "40/40 [==============================] - 2s 53ms/step - loss: 0.1576 - accuracy: 0.9416 - val_loss: 0.1774 - val_accuracy: 0.9320\n",
            "Epoch 36/50\n",
            "40/40 [==============================] - 2s 53ms/step - loss: 0.1642 - accuracy: 0.9365 - val_loss: 0.1935 - val_accuracy: 0.9300\n",
            "Epoch 37/50\n",
            "40/40 [==============================] - 2s 54ms/step - loss: 0.1495 - accuracy: 0.9434 - val_loss: 0.1771 - val_accuracy: 0.9385\n",
            "Epoch 38/50\n",
            "40/40 [==============================] - 2s 54ms/step - loss: 0.1485 - accuracy: 0.9448 - val_loss: 0.1638 - val_accuracy: 0.9415\n",
            "Epoch 39/50\n",
            "40/40 [==============================] - 2s 53ms/step - loss: 0.1413 - accuracy: 0.9432 - val_loss: 0.1694 - val_accuracy: 0.9440\n",
            "Epoch 40/50\n",
            "40/40 [==============================] - 2s 55ms/step - loss: 0.1462 - accuracy: 0.9455 - val_loss: 0.1853 - val_accuracy: 0.9295\n",
            "Epoch 41/50\n",
            "40/40 [==============================] - 2s 54ms/step - loss: 0.1424 - accuracy: 0.9454 - val_loss: 0.1774 - val_accuracy: 0.9410\n",
            "Epoch 42/50\n",
            "40/40 [==============================] - 2s 53ms/step - loss: 0.1411 - accuracy: 0.9451 - val_loss: 0.1755 - val_accuracy: 0.9370\n",
            "Epoch 43/50\n",
            "40/40 [==============================] - 2s 54ms/step - loss: 0.1438 - accuracy: 0.9459 - val_loss: 0.1750 - val_accuracy: 0.9385\n",
            "Epoch 44/50\n",
            "40/40 [==============================] - 2s 55ms/step - loss: 0.1358 - accuracy: 0.9486 - val_loss: 0.1890 - val_accuracy: 0.9325\n",
            "Epoch 45/50\n",
            "40/40 [==============================] - 2s 54ms/step - loss: 0.1486 - accuracy: 0.9440 - val_loss: 0.1672 - val_accuracy: 0.9440\n",
            "Epoch 46/50\n",
            "40/40 [==============================] - 2s 54ms/step - loss: 0.1338 - accuracy: 0.9471 - val_loss: 0.1849 - val_accuracy: 0.9405\n",
            "Epoch 47/50\n",
            "40/40 [==============================] - 2s 53ms/step - loss: 0.1301 - accuracy: 0.9516 - val_loss: 0.1635 - val_accuracy: 0.9415\n",
            "Epoch 48/50\n",
            "40/40 [==============================] - 2s 56ms/step - loss: 0.1307 - accuracy: 0.9514 - val_loss: 0.1788 - val_accuracy: 0.9410\n",
            "Epoch 49/50\n",
            "40/40 [==============================] - 2s 53ms/step - loss: 0.1283 - accuracy: 0.9503 - val_loss: 0.1717 - val_accuracy: 0.9430\n",
            "Epoch 50/50\n",
            "40/40 [==============================] - 2s 54ms/step - loss: 0.1270 - accuracy: 0.9523 - val_loss: 0.1703 - val_accuracy: 0.9440\n"
          ]
        }
      ]
    },
    {
      "cell_type": "code",
      "metadata": {
        "id": "zLhadNcDvMDT"
      },
      "source": [
        "# Save the model to import it later\n",
        "model.save('CNN_Model_CIFAR10.h5')"
      ],
      "execution_count": 8,
      "outputs": []
    },
    {
      "cell_type": "code",
      "metadata": {
        "id": "tCtETWTlvV1p"
      },
      "source": [
        "# load an existent model\n",
        "model = keras.models.load_model('CNN_Model_CIFAR10.h5')"
      ],
      "execution_count": 9,
      "outputs": []
    },
    {
      "cell_type": "markdown",
      "metadata": {
        "id": "krCCgqYqt5J3"
      },
      "source": [
        "#Graphh results"
      ]
    },
    {
      "cell_type": "code",
      "metadata": {
        "colab": {
          "base_uri": "https://localhost:8080/",
          "height": 590
        },
        "id": "jnxUsLqZt88J",
        "outputId": "9c1f5ed3-2b50-43ac-f524-2b75391d0230"
      },
      "source": [
        "plt.figure(); plt.grid()\n",
        "plt.plot(hist.history['accuracy'], lw=2)\n",
        "plt.plot(hist.history['val_accuracy'], lw=2)\n",
        "plt.xlabel('epoch'); plt.ylabel('accuracy')\n",
        "plt.title('Model accuracy')\n",
        "plt.legend(['train', 'test'], loc= 'upper left')\n",
        "\n",
        "plt.figure(); plt.grid()\n",
        "plt.plot(hist.history['loss'], lw=2)\n",
        "plt.plot(hist.history['val_loss'], lw=2)\n",
        "plt.xlabel('epoch'); plt.ylabel('loss')\n",
        "plt.title('Model loss')\n",
        "plt.legend(['train', 'test'], loc= 'upper left')\n",
        "\n"
      ],
      "execution_count": 10,
      "outputs": [
        {
          "output_type": "execute_result",
          "data": {
            "text/plain": [
              "<matplotlib.legend.Legend at 0x7fe9201d4490>"
            ]
          },
          "metadata": {},
          "execution_count": 10
        },
        {
          "output_type": "display_data",
          "data": {
            "image/png": "[encoded data removed]",
            "text/plain": [
              "<Figure size 432x288 with 1 Axes>"
            ]
          },
          "metadata": {
            "needs_background": "light"
          }
        },
        {
          "output_type": "display_data",
          "data": {
            "image/png": "[encoded data removed]",
            "text/plain": [
              "<Figure size 432x288 with 1 Axes>"
            ]
          },
          "metadata": {
            "needs_background": "light"
          }
        }
      ]
    },
    {
      "cell_type": "markdown",
      "metadata": {
        "id": "9aBpOm6-v-aw"
      },
      "source": [
        "# Accuracy metrics "
      ]
    },
    {
      "cell_type": "code",
      "metadata": {
        "colab": {
          "base_uri": "https://localhost:8080/"
        },
        "id": "hXFiit2ZwCAq",
        "outputId": "2bc482e4-09d2-4343-8101-61289fa2645f"
      },
      "source": [
        "ypred = model.predict(x_test)\n",
        "ypred = ypred.ravel() > 0.5\n",
        "\n",
        "#Metrics\n",
        "print(\"Metrics: \\n\", metrics.classification_report(y_test, ypred))\n",
        "\n",
        "# Confusion matrix to know how many ships and airplanes the model could identify correctly\n",
        "print(\"Confusion Matrix: \\n\", metrics.confusion_matrix(y_test, ypred))\n",
        "\n"
      ],
      "execution_count": 11,
      "outputs": [
        {
          "output_type": "stream",
          "name": "stdout",
          "text": [
            "Metrics: \n",
            "               precision    recall  f1-score   support\n",
            "\n",
            "         0.0       0.95      0.93      0.94      1000\n",
            "         1.0       0.93      0.95      0.94      1000\n",
            "\n",
            "    accuracy                           0.94      2000\n",
            "   macro avg       0.94      0.94      0.94      2000\n",
            "weighted avg       0.94      0.94      0.94      2000\n",
            "\n",
            "Confusion Matrix: \n",
            " [[933  67]\n",
            " [ 45 955]]\n"
          ]
        }
      ]
    },
    {
      "cell_type": "markdown",
      "metadata": {
        "id": "VkZ8iVOduBJS"
      },
      "source": [
        "# Lets evaluate the model with other images"
      ]
    },
    {
      "cell_type": "code",
      "metadata": {
        "colab": {
          "base_uri": "https://localhost:8080/",
          "height": 545
        },
        "id": "atK6BPMGspkt",
        "outputId": "5ea7faf8-7c37-4642-b53a-3db07eebd4ed"
      },
      "source": [
        "import cv2\n",
        "\n",
        "ship_name = 'ship.jpg'\n",
        "airplane_name = 'airplane.jpg'\n",
        "\n",
        "#Load and resize ship image\n",
        "ship_img = cv2.imread(ship_name)\n",
        "ship_img = cv2.resize(ship_img,(32,32))\n",
        "#Load and resize airplane image\n",
        "airplane_img = cv2.imread(airplane_name)\n",
        "airplane_img = cv2.resize(airplane_img,(32,32))\n",
        "\n",
        "# We want the image in pixels values from 0 to 1 and not from 0 to 255\n",
        "pattern_ship = ship_img.reshape((1,32,32,3))/255\n",
        "pattern_airplane = airplane_img.reshape((1,32,32,3))/255\n",
        "\n",
        "n = model.predict(pattern_ship)\n",
        "n = n.ravel() > 0.5\n",
        "\n",
        "plt.imshow(pattern_ship[0,:,:])\n",
        "if n == 0:\n",
        "  prediction = \"airplane\"\n",
        "else:\n",
        "  prediction = \"ship\"\n",
        "\n",
        "\n",
        "plt.title(\"Prediction: \"+ prediction)\n",
        "plt.show()\n",
        "\n",
        "# Now lets try with an airplane\n",
        "n = model.predict(pattern_airplane)\n",
        "n = n.ravel() > 0.5\n",
        "\n",
        "plt.imshow(pattern_airplane[0,:,:])\n",
        "if n == 0:\n",
        "  prediction = \"airplane\"\n",
        "else:\n",
        "  prediction = \"ship\"\n",
        "\n",
        "\n",
        "plt.title(\"Prediction: \"+ prediction)\n",
        "plt.show()\n",
        "\n",
        "# Remember that\n",
        "# 0 --> plane\n",
        "# 1 --> ship\n"
      ],
      "execution_count": 13,
      "outputs": [
        {
          "output_type": "display_data",
          "data": {
            "image/png": "[encoded data removed]",
            "text/plain": [
              "<Figure size 432x288 with 1 Axes>"
            ]
          },
          "metadata": {
            "needs_background": "light"
          }
        },
        {
          "output_type": "display_data",
          "data": {
            "image/png": "[encoded data removed]",
            "text/plain": [
              "<Figure size 432x288 with 1 Axes>"
            ]
          },
          "metadata": {
            "needs_background": "light"
          }
        }
      ]
    }
  ]
}